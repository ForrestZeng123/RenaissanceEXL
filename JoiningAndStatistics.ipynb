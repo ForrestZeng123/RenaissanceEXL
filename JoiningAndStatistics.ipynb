{
 "cells": [
  {
   "cell_type": "code",
   "execution_count": 6,
   "metadata": {},
   "outputs": [
    {
     "ename": "ModuleNotFoundError",
     "evalue": "No module named 'pandas'",
     "output_type": "error",
     "traceback": [
      "\u001b[1;31m---------------------------------------------------------------------------\u001b[0m",
      "\u001b[1;31mModuleNotFoundError\u001b[0m                       Traceback (most recent call last)",
      "Cell \u001b[1;32mIn[6], line 1\u001b[0m\n\u001b[1;32m----> 1\u001b[0m \u001b[39mimport\u001b[39;00m \u001b[39mpandas\u001b[39;00m \u001b[39mas\u001b[39;00m \u001b[39mpd\u001b[39;00m\n\u001b[0;32m      2\u001b[0m \u001b[39mimport\u001b[39;00m \u001b[39mnumpy\u001b[39;00m \u001b[39mas\u001b[39;00m \u001b[39mnp\u001b[39;00m\n\u001b[0;32m      3\u001b[0m \u001b[39mimport\u001b[39;00m \u001b[39mmatplotlib\u001b[39;00m\u001b[39m.\u001b[39;00m\u001b[39mpyplot\u001b[39;00m \u001b[39mas\u001b[39;00m \u001b[39mplt\u001b[39;00m\n",
      "\u001b[1;31mModuleNotFoundError\u001b[0m: No module named 'pandas'"
     ]
    }
   ],
   "source": [
    "import pandas as pd\n",
    "import numpy as np\n",
    "import matplotlib.pyplot as plt\n",
    "import csv\n",
    "import statsmodels.api as sm"
   ]
  },
  {
   "cell_type": "code",
   "execution_count": 7,
   "metadata": {},
   "outputs": [],
   "source": [
    "def clean(string):\n",
    "    string = string.replace('.', '')\n",
    "    string = string.replace(' ','')\n",
    "    string = string.replace(',','')\n",
    "    return string\n",
    "def convnum(text):\n",
    "    text=float(text)\n",
    "    return text"
   ]
  },
  {
   "cell_type": "code",
   "execution_count": 8,
   "metadata": {},
   "outputs": [
    {
     "ename": "NameError",
     "evalue": "name 'pd' is not defined",
     "output_type": "error",
     "traceback": [
      "\u001b[1;31m---------------------------------------------------------------------------\u001b[0m",
      "\u001b[1;31mNameError\u001b[0m                                 Traceback (most recent call last)",
      "Cell \u001b[1;32mIn[8], line 1\u001b[0m\n\u001b[1;32m----> 1\u001b[0m ob \u001b[39m=\u001b[39m pd\u001b[39m.\u001b[39mread_csv(\u001b[39m'\u001b[39m\u001b[39mData/Obesity-prevalence-by-state-2021.csv\u001b[39m\u001b[39m'\u001b[39m)\n\u001b[0;32m      2\u001b[0m sat \u001b[39m=\u001b[39m pd\u001b[39m.\u001b[39mread_csv(\u001b[39m'\u001b[39m\u001b[39mData/sat2021.csv\u001b[39m\u001b[39m'\u001b[39m)\n\u001b[0;32m      3\u001b[0m sat \u001b[39m=\u001b[39m sat\u001b[39m.\u001b[39mdropna()\n",
      "\u001b[1;31mNameError\u001b[0m: name 'pd' is not defined"
     ]
    }
   ],
   "source": [
    "ob = pd.read_csv('Data/Obesity-prevalence-by-state-2021.csv')\n",
    "sat = pd.read_csv('Data/sat2021.csv')\n",
    "sat = sat.dropna()\n",
    "money = pd.read_csv('Data/income2021.csv').dropna()"
   ]
  },
  {
   "cell_type": "code",
   "execution_count": null,
   "metadata": {},
   "outputs": [],
   "source": [
    "sat['State'] = sat['State'].apply(clean)\n",
    "ob['State'] = ob['State'].apply(clean)\n",
    "money['State']= ob['State'].apply(clean)\n",
    "money['Income'] = money['Income'].apply(clean)"
   ]
  },
  {
   "cell_type": "code",
   "execution_count": null,
   "metadata": {},
   "outputs": [],
   "source": [
    "joined = ob.merge(sat, how='outer')\n",
    "joined = joined.merge(money, how='outer')\n",
    "joined['Prevalence'] = joined['Prevalence'].apply(convnum)\n",
    "joined['Income'] = joined['Income'].apply(convnum)"
   ]
  },
  {
   "cell_type": "code",
   "execution_count": null,
   "metadata": {},
   "outputs": [],
   "source": [
    "Score = joined['Average Total Score']\n",
    "X = joined[['Prevalence', 'Income']]\n",
    "X = sm.add_constant(X)\n",
    "model = sm.OLS(Score, X).fit()\n",
    "print(model.summary())\n",
    "df = joined\n",
    "X = df[['Prevalence', 'Income']]\n",
    "X = sm.add_constant(X)\n",
    "y = df['Average Total Score']\n",
    "model = sm.OLS(y, X).fit()\n",
    "\n",
    "# Print original regression results\n",
    "print(\"Original Regression Results:\")\n",
    "print(model.summary())\n",
    "\n",
    "# Step 2: Partial regression to obtain residuals\n",
    "X_partial = df[['Income']]\n",
    "X_partial = sm.add_constant(X_partial)\n",
    "model_partial = sm.OLS(y, X_partial).fit()\n",
    "residuals = model_partial.resid\n",
    "\n",
    "# Step 3: Isolate Prevalence effect\n",
    "df['Residuals Average Total Score'] = residuals\n",
    "\n",
    "# Step 4: Regression with isolated Prevalence effect\n",
    "X_isolated = df[['Prevalence']]\n",
    "X_isolated = sm.add_constant(X_isolated)\n",
    "y_isolated = df['Residuals Average Total Score']\n",
    "model_isolated = sm.OLS(y_isolated, X_isolated).fit()\n",
    "\n",
    "# Print regression with isolated Prevalence effect results\n",
    "print(\"\\nRegression with Isolated Prevalence Effect:\")\n",
    "print(model_isolated.summary())"
   ]
  }
 ],
 "metadata": {
  "kernelspec": {
   "display_name": "Python 3",
   "language": "python",
   "name": "python3"
  },
  "language_info": {
   "codemirror_mode": {
    "name": "ipython",
    "version": 3
   },
   "file_extension": ".py",
   "mimetype": "text/x-python",
   "name": "python",
   "nbconvert_exporter": "python",
   "pygments_lexer": "ipython3",
   "version": "3.10.4"
  },
  "orig_nbformat": 4
 },
 "nbformat": 4,
 "nbformat_minor": 2
}
